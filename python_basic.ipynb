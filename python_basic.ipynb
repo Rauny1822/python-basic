{
  "nbformat": 4,
  "nbformat_minor": 0,
  "metadata": {
    "colab": {
      "provenance": []
    },
    "kernelspec": {
      "name": "python3",
      "display_name": "Python 3"
    },
    "language_info": {
      "name": "python"
    }
  },
  "cells": [
    {
      "cell_type": "markdown",
      "source": [
        "python basic"
      ],
      "metadata": {
        "id": "YQWWL-QMink7"
      }
    },
    {
      "cell_type": "markdown",
      "source": [
        "1.what is python ,and why is it popular?\n",
        "  - python is a high-level interpreted dynamically typed , and general purpose programming language.\n",
        "  - it is easy to learn and readable and versatile and general purpose having aprebuild libraries like NumPy, pandas Matplotlip ,etc\n"
      ],
      "metadata": {
        "id": "5mk08D8Mi9UG"
      }
    },
    {
      "cell_type": "markdown",
      "source": [
        "2.What is an interpreter in python?\n",
        "  - An interpreter in python is a programme that executes python code line by line. Its Reads ,Translates and Executes\n",
        "  "
      ],
      "metadata": {
        "id": "jc9bYqV2lm3V"
      }
    },
    {
      "cell_type": "markdown",
      "source": [
        "3. what are pre-define keywords in python?\n",
        "   - Predefined keywords in python are special words that have a fixed meaning and cannot be used as variable names, function names ,or identifiers.EX- NONE , TRUE ,FALSE"
      ],
      "metadata": {
        "id": "MR-yOVXLmjqI"
      }
    },
    {
      "cell_type": "markdown",
      "source": [
        "4.Can keywords be used as a variable names ?\n",
        "  - No, keywords cannot be ussed as avariable names in python because they are reserved words that have special meaning in the language's syntax."
      ],
      "metadata": {
        "id": "xLffTvRgnamj"
      }
    },
    {
      "cell_type": "markdown",
      "source": [
        "5.What is mutability in python?\n",
        "  - Mutability in python refers to whether an object's value can be changed after it is created. Example : Lists ,dictionaries ,set ,etc"
      ],
      "metadata": {
        "id": "0UM99Q4DoC_q"
      }
    },
    {
      "cell_type": "markdown",
      "source": [
        "6.why are lists mutable ,but tuples are immutable?\n",
        "  - lists are mutable because the values of list can be change after the list created list allow modification they are implemented as dynamic arrays, which means python allocated extra memory to allow modification.\n",
        "  - tuples are immutable because its does not allow to cahnge the value apfter the tuple is created they are stored in a fixed memory block where python does not allocate extra space for change."
      ],
      "metadata": {
        "id": "j7da8m5prEKB"
      }
    },
    {
      "cell_type": "markdown",
      "source": [
        "7.what is the difference between \"==\" and \"is\" operater in python ?\n",
        "  - \"==\" and \"is\" both are comparison operators, but they serve different purposes based on value comparison and object identify.\n",
        "  - \"==\" (Equality operator) :compares the value of two objects,if two objects contain the same data ,== return true ,even if they are stored ar different memory locations.\n",
        "  - \"is\"(identity operator): ompare the memory addresses of two objects, it return true if both variable point to the same object in memory."
      ],
      "metadata": {
        "id": "0jFtPXNWtLZB"
      }
    },
    {
      "cell_type": "markdown",
      "source": [
        "8.What are the logical operator?\n",
        "  - logical operator are used to combine conditional statements and return a bollean value(true ot false)based on logical operations .python has three logical operators: \"and\",\"or\", \"not\"."
      ],
      "metadata": {
        "id": "zjZPCrPxvfNT"
      }
    },
    {
      "cell_type": "markdown",
      "source": [
        "9.What is type casting in python?\n",
        "  - Typecasting also called type conversion it is the process of converting one data type into another."
      ],
      "metadata": {
        "id": "0duVXaGzwiBr"
      }
    },
    {
      "cell_type": "markdown",
      "source": [
        "10.what is the difference between implicit and explicit type in python?\n",
        "   - implicit : python automatocally converts one data type into another without user intervention.\n",
        "   - explicit : in this typecasting the programmer manually converts one data type into another using python's built-in functions."
      ],
      "metadata": {
        "id": "lepp7m53xaTH"
      }
    },
    {
      "cell_type": "markdown",
      "source": [
        "11.What is the purpose of conditionl statements in python?\n",
        "  - Conditinal statement in python are used to control the flow of execution in a programme by making desicions based on conditions. they allow programe to execute different blocks of code depending on whether a condition is true or false."
      ],
      "metadata": {
        "id": "wxqTKFEGykcM"
      }
    },
    {
      "cell_type": "markdown",
      "source": [
        "12.How does the elif statement work?\n",
        "   - The elif statement allows python to cheak multiple conditions sequentially. it is used when you need to test more than two conditions in an if-elif-else structure.\n",
        "   "
      ],
      "metadata": {
        "id": "wVjagP4F0ZWx"
      }
    },
    {
      "cell_type": "markdown",
      "source": [
        "13.what is the difference between for and while loops?\n",
        "   - for loop: the for loop is used when the number of iterations is known in advance.it iterates over a squence(such as a list,tuple, or range) and executes the block of code for each element.\n",
        "   - while loop : The while loop is used when the number of iterations is unknown and depends on a conditions.the loop continues as long as the condition is true."
      ],
      "metadata": {
        "id": "DT0kP8Ns1IzE"
      }
    },
    {
      "cell_type": "markdown",
      "source": [
        "13.Describe a scenario when a while loop is more suitable than a for loop.\n",
        "   - A while loop is more suitable when the number of iterations is unknown beforehand and depends on a conditions that changes dynamically\n",
        "   :-Scenario:Waiting for user input until a correct value is entered , imagine a program that asks user to enter a password. the program should keep asking until the user provides the correct password."
      ],
      "metadata": {
        "id": "XE0JWxQu4VbK"
      }
    },
    {
      "cell_type": "markdown",
      "source": [
        "PRACTICAL **QUESTION**"
      ],
      "metadata": {
        "id": "SBjn6o586s0i"
      }
    },
    {
      "cell_type": "code",
      "execution_count": 1,
      "metadata": {
        "colab": {
          "base_uri": "https://localhost:8080/"
        },
        "id": "TZDwstdzie7F",
        "outputId": "7ab41e49-edf9-41ae-f6cf-adb4ad5be91c"
      },
      "outputs": [
        {
          "output_type": "stream",
          "name": "stdout",
          "text": [
            "hello,world\n"
          ]
        }
      ],
      "source": [
        "#1 write a python programme to print \"hello,world\".\n",
        "print(\"hello,world\")\n"
      ]
    },
    {
      "cell_type": "code",
      "source": [
        "#2 write a python program that display your name and age.\n",
        "Name=input(\"enter your name\")\n",
        "age=int(input(\"enter your age\"))\n",
        "print(f\"my name is {Name} and i am {age} \")"
      ],
      "metadata": {
        "colab": {
          "base_uri": "https://localhost:8080/"
        },
        "id": "3Nd6klv4kZmg",
        "outputId": "84de0ff5-31e1-4d14-b648-bd18b6edd8d8"
      },
      "execution_count": 2,
      "outputs": [
        {
          "output_type": "stream",
          "name": "stdout",
          "text": [
            "enter your nameraunak\n",
            "enter your age24\n",
            "my name is raunak and i am 24 \n"
          ]
        }
      ]
    },
    {
      "cell_type": "code",
      "source": [
        "#3 write code to print all the pre-defined keywords in python using the keyword library.\n",
        "import keyword\n",
        "keyword = keyword.kwlist\n",
        "print(\"all the pre-defined keywords in python are :\")\n",
        "for kw in keyword:\n",
        "  print(kw)"
      ],
      "metadata": {
        "colab": {
          "base_uri": "https://localhost:8080/"
        },
        "id": "TlA-2gfGmCsU",
        "outputId": "e638eaf1-35b5-4a11-ebd9-f16b4c9bdcd1"
      },
      "execution_count": 6,
      "outputs": [
        {
          "output_type": "stream",
          "name": "stdout",
          "text": [
            "all the pre-defined keywords in python are :\n",
            "False\n",
            "None\n",
            "True\n",
            "and\n",
            "as\n",
            "assert\n",
            "async\n",
            "await\n",
            "break\n",
            "class\n",
            "continue\n",
            "def\n",
            "del\n",
            "elif\n",
            "else\n",
            "except\n",
            "finally\n",
            "for\n",
            "from\n",
            "global\n",
            "if\n",
            "import\n",
            "in\n",
            "is\n",
            "lambda\n",
            "nonlocal\n",
            "not\n",
            "or\n",
            "pass\n",
            "raise\n",
            "return\n",
            "try\n",
            "while\n",
            "with\n",
            "yield\n"
          ]
        }
      ]
    },
    {
      "cell_type": "code",
      "source": [
        "#4 Write a program that checks if a given word in python keyword.\n",
        "import keyword\n",
        "word=input(\"enter a word to cheak if it is python keyword : \")\n",
        "if keyword.iskeyword(word):\n",
        "  print(f\"{word} is a python keyword\")\n",
        "else:\n",
        "    print(f\"{word} is not a python keyword\")\n",
        "\n"
      ],
      "metadata": {
        "colab": {
          "base_uri": "https://localhost:8080/"
        },
        "id": "AFmAiFewo_e-",
        "outputId": "2b52af95-e6f0-4eb8-c047-d31d9eb5346b"
      },
      "execution_count": 13,
      "outputs": [
        {
          "output_type": "stream",
          "name": "stdout",
          "text": [
            "enter a word to cheak if it is python keyword : import\n",
            "import is a python keyword\n"
          ]
        }
      ]
    },
    {
      "cell_type": "code",
      "source": [
        "#5 Create a list and tuple in python ,and demonstrate how attempting to change an element works differently for each.\n",
        "my_list = [1,2,3,\"raunak\",5+1j]\n",
        "my_tuple = (1,2,3,\"raunak\",5+1j)\n",
        "my_list[3] = \"singh\"\n",
        "print(my_list) # list is mutable so we can change the value.\n",
        "# my_tuple[3] = \"singh\"   # tuple is immutable we can not change or replace any value.\n",
        "# print(my_tuple)"
      ],
      "metadata": {
        "id": "lC37Veusr_eC"
      },
      "execution_count": null,
      "outputs": []
    },
    {
      "cell_type": "code",
      "source": [
        "#6 write a function to demonstrate the behaviour of mutable and immutable arguement.\n",
        "def modify_value(lst,tpl):\n",
        "  lst.append(4)\n",
        "  tpl = (4)\n",
        "\n",
        "#initialize variable\n",
        "my_lst = [1,2,3]\n",
        "my_tpl = (1,2,3)\n",
        "\n",
        "print(\"before function call:\")\n",
        "print(f\"list: {my_lst}\")\n",
        "print(f\"tuple: {my_tpl}\")\n",
        "\n",
        "modify_value(my_lst,my_tpl)\n",
        "\n",
        "print(\"after function call:\")\n",
        "print(f\"list: {my_lst}\")\n",
        "print(f\"tuple: {my_tpl}\")\n",
        "\n",
        "\n"
      ],
      "metadata": {
        "colab": {
          "base_uri": "https://localhost:8080/"
        },
        "id": "Y-u0vcYU16kT",
        "outputId": "0dde9732-18b3-49d9-c6a1-2f70bf4564e4"
      },
      "execution_count": 2,
      "outputs": [
        {
          "output_type": "stream",
          "name": "stdout",
          "text": [
            "before function call:\n",
            "list: [1, 2, 3]\n",
            "tuple: (1, 2, 3)\n",
            "after function call:\n",
            "list: [1, 2, 3, 4]\n",
            "tuple: (1, 2, 3)\n"
          ]
        }
      ]
    },
    {
      "cell_type": "code",
      "source": [
        "#7 write a program that perform basic arithmatic operation on two user-input numbers.\n",
        "num1 = float(input(\"enter the first number : \"))\n",
        "num2 = float(input(\"enter the second number : \"))\n",
        "add = num1 + num2\n",
        "sub = num1 - num2\n",
        "mul = num1 * num2\n",
        "div = num1 / num2\n",
        "print(\"addition:\",add)\n",
        "print(\"subtraction:\", sub)\n",
        "print(\"multiplication:\", mul)\n",
        "print(\"division:\", div)\n"
      ],
      "metadata": {
        "colab": {
          "base_uri": "https://localhost:8080/"
        },
        "id": "5uYTQfDzPTzw",
        "outputId": "26098200-6f61-41f5-dd37-dda09e4a2c9c"
      },
      "execution_count": 2,
      "outputs": [
        {
          "output_type": "stream",
          "name": "stdout",
          "text": [
            "enter the first number : 9747\n",
            "enter the second number : 48\n",
            "addition: 9795.0\n",
            "subtraction: 9699.0\n",
            "multiplication: 467856.0\n",
            "division: 203.0625\n"
          ]
        }
      ]
    },
    {
      "cell_type": "code",
      "source": [
        "#8 write a program to demonstrate the use of logical operators.\n",
        "# Get input from the user\n",
        "age = int(input(\"Enter your age: \"))\n",
        "has_license = input(\"Do you have a driver's license? (yes/no): \")\n",
        "\n",
        "# Check if the person is eligible to drive\n",
        "if age >= 18 and has_license.lower() == \"yes\":\n",
        "    print(\"You are eligible to drive.\")\n",
        "else:\n",
        "    print(\"You are not eligible to drive.\")\n",
        "\n",
        "\n",
        "# Example using 'or'\n",
        "is_weekend = input(\"Is it a weekend? (yes/no): \")\n",
        "is_holiday = input(\"Is it a holiday? (yes/no): \")\n",
        "\n",
        "if is_weekend.lower() == \"yes\" or is_holiday.lower() == \"yes\":\n",
        "    print(\"It's time to relax!\")\n",
        "else:\n",
        "    print(\"Get back to work!\")\n",
        "\n",
        "\n",
        "# Example using 'not'\n",
        "is_raining = input(\"Is it raining? (yes/no): \")\n",
        "\n",
        "if not is_raining.lower() == \"yes\":\n",
        "    print(\"It's a good day to go for a walk.\")\n",
        "else:\n",
        "    print(\"Better stay indoors.\")"
      ],
      "metadata": {
        "colab": {
          "base_uri": "https://localhost:8080/"
        },
        "id": "sXFbyvUogCkG",
        "outputId": "796084eb-523b-4d6d-d572-9f976a65413b"
      },
      "execution_count": 3,
      "outputs": [
        {
          "output_type": "stream",
          "name": "stdout",
          "text": [
            "You are eligible to drive.\n",
            "Get back to work!\n",
            "Is it raining? (yes/no): no\n",
            "It's a good day to go for a walk.\n"
          ]
        }
      ]
    },
    {
      "cell_type": "code",
      "source": [
        "#9 write a python program to convert user input from string to integer, float and bool type.\n",
        "user = input(\"enter a number here : \")\n",
        "\n",
        "#convert the data type string into integer.\n",
        "integer = int(user)\n",
        "# convert the data type integer into float .\n",
        "flo_at = float(integer)\n",
        "# convert the data type float into bool.\n",
        "boo_l = bool(flo_at)\n",
        "# convert bool into string.\n",
        "string = str(integer)\n",
        "\n",
        "print(integer)\n",
        "print(flo_at)\n",
        "print(boo_l)\n",
        "print(type(string))"
      ],
      "metadata": {
        "colab": {
          "base_uri": "https://localhost:8080/"
        },
        "id": "gQdz9KjajnL5",
        "outputId": "35851dc8-4c2a-4d46-914c-4bc99973664b"
      },
      "execution_count": 9,
      "outputs": [
        {
          "output_type": "stream",
          "name": "stdout",
          "text": [
            "enter a number here : 54\n",
            "54\n",
            "54.0\n",
            "True\n",
            "<class 'str'>\n"
          ]
        }
      ]
    },
    {
      "cell_type": "code",
      "source": [
        "#10 write code to demonstrate type casting with list element.\n",
        "my_list = [1,2.5,3,\"rauank\",True]\n",
        "my_str = str(my_list[0])\n",
        "print(my_str)\n",
        "\n",
        "my_int = int(my_list[1])\n",
        "print(my_int)\n",
        "\n",
        "my_float = float(my_list[2])\n",
        "print(my_float)\n",
        "\n",
        "my_bool = bool(my_list[3])\n",
        "print(my_bool)\n",
        "\n",
        "print(my_list)"
      ],
      "metadata": {
        "colab": {
          "base_uri": "https://localhost:8080/"
        },
        "id": "z3KhPdnunbhc",
        "outputId": "afb2e728-41cc-479a-e4df-5081f1301104"
      },
      "execution_count": 11,
      "outputs": [
        {
          "output_type": "stream",
          "name": "stdout",
          "text": [
            "1\n",
            "2\n",
            "3.0\n",
            "True\n",
            "[1, 2.5, 3, 'rauank', True]\n"
          ]
        }
      ]
    },
    {
      "cell_type": "code",
      "source": [
        "#11 write a program that checks if a number is positive, negative , or zero.\n",
        "\n",
        "num = int(input(\"enter a number here : \"))\n",
        "\n",
        "if num > 0:\n",
        "  print(\"the number is positive\")\n",
        "elif num  == 0:\n",
        "  print(\"the number is zero\")\n",
        "else:\n",
        "  print(\"the number is negative\")"
      ],
      "metadata": {
        "colab": {
          "base_uri": "https://localhost:8080/"
        },
        "id": "XbcX6O79qmig",
        "outputId": "48e09e2a-7fda-4d21-9156-993dcae3a64e"
      },
      "execution_count": 5,
      "outputs": [
        {
          "output_type": "stream",
          "name": "stdout",
          "text": [
            "enter a number here : 0\n",
            "the number is zero\n"
          ]
        }
      ]
    },
    {
      "cell_type": "code",
      "source": [
        "#12 write a for loop to print numbers from 1 to 10.\n",
        "\n",
        "for i in  range(1 , 11):\n",
        "  print(i)"
      ],
      "metadata": {
        "colab": {
          "base_uri": "https://localhost:8080/"
        },
        "id": "urp2aSzIC0vE",
        "outputId": "5d7937a6-25d8-4941-b3f6-a5040ea53b2a"
      },
      "execution_count": 7,
      "outputs": [
        {
          "output_type": "stream",
          "name": "stdout",
          "text": [
            "1\n",
            "2\n",
            "3\n",
            "4\n",
            "5\n",
            "6\n",
            "7\n",
            "8\n",
            "9\n",
            "10\n"
          ]
        }
      ]
    },
    {
      "cell_type": "code",
      "source": [
        "#13 write a python program to find the sum of all even number between 1 to 50.\n",
        "\n",
        "for i in range(1,50):\n",
        "  if i % 2 == 0:\n",
        "    print(i)"
      ],
      "metadata": {
        "colab": {
          "base_uri": "https://localhost:8080/"
        },
        "id": "RP0tOwyjD50Q",
        "outputId": "bf74e777-d118-4417-80b5-ff40ea987d11"
      },
      "execution_count": 9,
      "outputs": [
        {
          "output_type": "stream",
          "name": "stdout",
          "text": [
            "2\n",
            "4\n",
            "6\n",
            "8\n",
            "10\n",
            "12\n",
            "14\n",
            "16\n",
            "18\n",
            "20\n",
            "22\n",
            "24\n",
            "26\n",
            "28\n",
            "30\n",
            "32\n",
            "34\n",
            "36\n",
            "38\n",
            "40\n",
            "42\n",
            "44\n",
            "46\n",
            "48\n"
          ]
        }
      ]
    },
    {
      "cell_type": "code",
      "source": [
        "#14 write a program to reverse a string using a while loop.\n",
        "def reverse_while_loop(s):\n",
        "    s1 = ''\n",
        "    length = len(s) - 1\n",
        "    while length >= 0:\n",
        "        s1 = s1 + s[length]\n",
        "        length = length - 1\n",
        "    return s1\n",
        "\n",
        "input_str = 'ABç∂EF'\n",
        "\n",
        "if __name__ == \"__main__\":\n",
        "    print('Reverse String using while loop =', reverse_while_loop(input_str))"
      ],
      "metadata": {
        "colab": {
          "base_uri": "https://localhost:8080/"
        },
        "id": "X1xZsYzpEw86",
        "outputId": "8fcfce2e-790d-47c4-8d93-acf0a3427ca7"
      },
      "execution_count": 10,
      "outputs": [
        {
          "output_type": "stream",
          "name": "stdout",
          "text": [
            "Reverse String using while loop = FE∂çBA\n"
          ]
        }
      ]
    },
    {
      "cell_type": "code",
      "source": [
        "#15 write a python program to calculate the factorial of a number provided by the user using a while loop.\n",
        "def factorial(number):\n",
        "\n",
        "  factorial = 1\n",
        "  while number > 1:\n",
        "    factorial *= number\n",
        "    number -= 1\n",
        "  return factorial\n",
        "\n",
        "\n",
        "# Get input from the user\n",
        "number = int(input(\"Enter a number: \"))\n",
        "\n",
        "# Calculate the factorial\n",
        "result = factorial(number)\n",
        "\n",
        "# Print the result\n",
        "print(\"Factorial of\", number, \"is\", result)\n"
      ],
      "metadata": {
        "colab": {
          "base_uri": "https://localhost:8080/"
        },
        "id": "KxnXj4XsKb9b",
        "outputId": "d91647d1-66ff-4edc-8163-4c1fa617e1a1"
      },
      "execution_count": 11,
      "outputs": [
        {
          "output_type": "stream",
          "name": "stdout",
          "text": [
            "Enter a number: 45\n",
            "Factorial of 45 is 119622220865480194561963161495657715064383733760000000000\n"
          ]
        }
      ]
    }
  ]
}